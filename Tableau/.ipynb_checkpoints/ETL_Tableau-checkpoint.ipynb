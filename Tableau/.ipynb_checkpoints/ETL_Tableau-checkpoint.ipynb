{
 "cells": [
  {
   "cell_type": "code",
   "execution_count": 1,
   "id": "db847d66",
   "metadata": {},
   "outputs": [
    {
     "name": "stdout",
     "output_type": "stream",
     "text": [
      "Requirement already satisfied: plotly==5.8.0 in /Users/lucypepe/opt/anaconda3/lib/python3.9/site-packages (5.8.0)\r\n",
      "Requirement already satisfied: tenacity>=6.2.0 in /Users/lucypepe/opt/anaconda3/lib/python3.9/site-packages (from plotly==5.8.0) (8.0.1)\r\n"
     ]
    }
   ],
   "source": [
    "!pip install plotly==5.8.0"
   ]
  },
  {
   "cell_type": "code",
   "execution_count": 2,
   "id": "58b9e6cf",
   "metadata": {},
   "outputs": [],
   "source": [
    "#dependencies\n",
    "import pandas as pd\n",
    "import plotly.figure_factory as ff\n",
    "import numpy as np\n",
    "import matplotlib.pyplot as plt\n",
    "import plotly.graph_objs as go\n",
    "import plotly.express as px"
   ]
  },
  {
   "cell_type": "markdown",
   "id": "acab313c",
   "metadata": {},
   "source": [
    "## ETL Treatment Group"
   ]
  },
  {
   "cell_type": "code",
   "execution_count": 3,
   "id": "74767e70",
   "metadata": {},
   "outputs": [],
   "source": [
    "# File to Load \n",
    "treatment = \"Resources/Treatment_practice.csv\"\n",
    "control = \"Resources/Control_Practice.csv\""
   ]
  },
  {
   "cell_type": "code",
   "execution_count": 4,
   "id": "622638bf",
   "metadata": {},
   "outputs": [
    {
     "ename": "FileNotFoundError",
     "evalue": "[Errno 2] No such file or directory: 'Resources/Treatment_practice.csv'",
     "output_type": "error",
     "traceback": [
      "\u001b[0;31m---------------------------------------------------------------------------\u001b[0m",
      "\u001b[0;31mFileNotFoundError\u001b[0m                         Traceback (most recent call last)",
      "\u001b[0;32m/var/folders/jx/ynmpflkj6r95_6cyj94dd7pc0000gn/T/ipykernel_17214/4233971788.py\u001b[0m in \u001b[0;36m<module>\u001b[0;34m\u001b[0m\n\u001b[1;32m      1\u001b[0m \u001b[0;31m# Read the  Data and store into a Pandas DataFrame\u001b[0m\u001b[0;34m\u001b[0m\u001b[0;34m\u001b[0m\u001b[0m\n\u001b[0;32m----> 2\u001b[0;31m \u001b[0mtreatment\u001b[0m \u001b[0;34m=\u001b[0m \u001b[0mpd\u001b[0m\u001b[0;34m.\u001b[0m\u001b[0mread_csv\u001b[0m\u001b[0;34m(\u001b[0m\u001b[0mtreatment\u001b[0m\u001b[0;34m)\u001b[0m\u001b[0;34m\u001b[0m\u001b[0;34m\u001b[0m\u001b[0m\n\u001b[0m\u001b[1;32m      3\u001b[0m \u001b[0mcontrol\u001b[0m \u001b[0;34m=\u001b[0m \u001b[0mpd\u001b[0m\u001b[0;34m.\u001b[0m\u001b[0mread_csv\u001b[0m\u001b[0;34m(\u001b[0m\u001b[0mcontrol\u001b[0m\u001b[0;34m)\u001b[0m\u001b[0;34m\u001b[0m\u001b[0;34m\u001b[0m\u001b[0m\n",
      "\u001b[0;32m~/opt/anaconda3/lib/python3.9/site-packages/pandas/util/_decorators.py\u001b[0m in \u001b[0;36mwrapper\u001b[0;34m(*args, **kwargs)\u001b[0m\n\u001b[1;32m    309\u001b[0m                     \u001b[0mstacklevel\u001b[0m\u001b[0;34m=\u001b[0m\u001b[0mstacklevel\u001b[0m\u001b[0;34m,\u001b[0m\u001b[0;34m\u001b[0m\u001b[0;34m\u001b[0m\u001b[0m\n\u001b[1;32m    310\u001b[0m                 )\n\u001b[0;32m--> 311\u001b[0;31m             \u001b[0;32mreturn\u001b[0m \u001b[0mfunc\u001b[0m\u001b[0;34m(\u001b[0m\u001b[0;34m*\u001b[0m\u001b[0margs\u001b[0m\u001b[0;34m,\u001b[0m \u001b[0;34m**\u001b[0m\u001b[0mkwargs\u001b[0m\u001b[0;34m)\u001b[0m\u001b[0;34m\u001b[0m\u001b[0;34m\u001b[0m\u001b[0m\n\u001b[0m\u001b[1;32m    312\u001b[0m \u001b[0;34m\u001b[0m\u001b[0m\n\u001b[1;32m    313\u001b[0m         \u001b[0;32mreturn\u001b[0m \u001b[0mwrapper\u001b[0m\u001b[0;34m\u001b[0m\u001b[0;34m\u001b[0m\u001b[0m\n",
      "\u001b[0;32m~/opt/anaconda3/lib/python3.9/site-packages/pandas/io/parsers/readers.py\u001b[0m in \u001b[0;36mread_csv\u001b[0;34m(filepath_or_buffer, sep, delimiter, header, names, index_col, usecols, squeeze, prefix, mangle_dupe_cols, dtype, engine, converters, true_values, false_values, skipinitialspace, skiprows, skipfooter, nrows, na_values, keep_default_na, na_filter, verbose, skip_blank_lines, parse_dates, infer_datetime_format, keep_date_col, date_parser, dayfirst, cache_dates, iterator, chunksize, compression, thousands, decimal, lineterminator, quotechar, quoting, doublequote, escapechar, comment, encoding, encoding_errors, dialect, error_bad_lines, warn_bad_lines, on_bad_lines, delim_whitespace, low_memory, memory_map, float_precision, storage_options)\u001b[0m\n\u001b[1;32m    584\u001b[0m     \u001b[0mkwds\u001b[0m\u001b[0;34m.\u001b[0m\u001b[0mupdate\u001b[0m\u001b[0;34m(\u001b[0m\u001b[0mkwds_defaults\u001b[0m\u001b[0;34m)\u001b[0m\u001b[0;34m\u001b[0m\u001b[0;34m\u001b[0m\u001b[0m\n\u001b[1;32m    585\u001b[0m \u001b[0;34m\u001b[0m\u001b[0m\n\u001b[0;32m--> 586\u001b[0;31m     \u001b[0;32mreturn\u001b[0m \u001b[0m_read\u001b[0m\u001b[0;34m(\u001b[0m\u001b[0mfilepath_or_buffer\u001b[0m\u001b[0;34m,\u001b[0m \u001b[0mkwds\u001b[0m\u001b[0;34m)\u001b[0m\u001b[0;34m\u001b[0m\u001b[0;34m\u001b[0m\u001b[0m\n\u001b[0m\u001b[1;32m    587\u001b[0m \u001b[0;34m\u001b[0m\u001b[0m\n\u001b[1;32m    588\u001b[0m \u001b[0;34m\u001b[0m\u001b[0m\n",
      "\u001b[0;32m~/opt/anaconda3/lib/python3.9/site-packages/pandas/io/parsers/readers.py\u001b[0m in \u001b[0;36m_read\u001b[0;34m(filepath_or_buffer, kwds)\u001b[0m\n\u001b[1;32m    480\u001b[0m \u001b[0;34m\u001b[0m\u001b[0m\n\u001b[1;32m    481\u001b[0m     \u001b[0;31m# Create the parser.\u001b[0m\u001b[0;34m\u001b[0m\u001b[0;34m\u001b[0m\u001b[0m\n\u001b[0;32m--> 482\u001b[0;31m     \u001b[0mparser\u001b[0m \u001b[0;34m=\u001b[0m \u001b[0mTextFileReader\u001b[0m\u001b[0;34m(\u001b[0m\u001b[0mfilepath_or_buffer\u001b[0m\u001b[0;34m,\u001b[0m \u001b[0;34m**\u001b[0m\u001b[0mkwds\u001b[0m\u001b[0;34m)\u001b[0m\u001b[0;34m\u001b[0m\u001b[0;34m\u001b[0m\u001b[0m\n\u001b[0m\u001b[1;32m    483\u001b[0m \u001b[0;34m\u001b[0m\u001b[0m\n\u001b[1;32m    484\u001b[0m     \u001b[0;32mif\u001b[0m \u001b[0mchunksize\u001b[0m \u001b[0;32mor\u001b[0m \u001b[0miterator\u001b[0m\u001b[0;34m:\u001b[0m\u001b[0;34m\u001b[0m\u001b[0;34m\u001b[0m\u001b[0m\n",
      "\u001b[0;32m~/opt/anaconda3/lib/python3.9/site-packages/pandas/io/parsers/readers.py\u001b[0m in \u001b[0;36m__init__\u001b[0;34m(self, f, engine, **kwds)\u001b[0m\n\u001b[1;32m    809\u001b[0m             \u001b[0mself\u001b[0m\u001b[0;34m.\u001b[0m\u001b[0moptions\u001b[0m\u001b[0;34m[\u001b[0m\u001b[0;34m\"has_index_names\"\u001b[0m\u001b[0;34m]\u001b[0m \u001b[0;34m=\u001b[0m \u001b[0mkwds\u001b[0m\u001b[0;34m[\u001b[0m\u001b[0;34m\"has_index_names\"\u001b[0m\u001b[0;34m]\u001b[0m\u001b[0;34m\u001b[0m\u001b[0;34m\u001b[0m\u001b[0m\n\u001b[1;32m    810\u001b[0m \u001b[0;34m\u001b[0m\u001b[0m\n\u001b[0;32m--> 811\u001b[0;31m         \u001b[0mself\u001b[0m\u001b[0;34m.\u001b[0m\u001b[0m_engine\u001b[0m \u001b[0;34m=\u001b[0m \u001b[0mself\u001b[0m\u001b[0;34m.\u001b[0m\u001b[0m_make_engine\u001b[0m\u001b[0;34m(\u001b[0m\u001b[0mself\u001b[0m\u001b[0;34m.\u001b[0m\u001b[0mengine\u001b[0m\u001b[0;34m)\u001b[0m\u001b[0;34m\u001b[0m\u001b[0;34m\u001b[0m\u001b[0m\n\u001b[0m\u001b[1;32m    812\u001b[0m \u001b[0;34m\u001b[0m\u001b[0m\n\u001b[1;32m    813\u001b[0m     \u001b[0;32mdef\u001b[0m \u001b[0mclose\u001b[0m\u001b[0;34m(\u001b[0m\u001b[0mself\u001b[0m\u001b[0;34m)\u001b[0m\u001b[0;34m:\u001b[0m\u001b[0;34m\u001b[0m\u001b[0;34m\u001b[0m\u001b[0m\n",
      "\u001b[0;32m~/opt/anaconda3/lib/python3.9/site-packages/pandas/io/parsers/readers.py\u001b[0m in \u001b[0;36m_make_engine\u001b[0;34m(self, engine)\u001b[0m\n\u001b[1;32m   1038\u001b[0m             )\n\u001b[1;32m   1039\u001b[0m         \u001b[0;31m# error: Too many arguments for \"ParserBase\"\u001b[0m\u001b[0;34m\u001b[0m\u001b[0;34m\u001b[0m\u001b[0m\n\u001b[0;32m-> 1040\u001b[0;31m         \u001b[0;32mreturn\u001b[0m \u001b[0mmapping\u001b[0m\u001b[0;34m[\u001b[0m\u001b[0mengine\u001b[0m\u001b[0;34m]\u001b[0m\u001b[0;34m(\u001b[0m\u001b[0mself\u001b[0m\u001b[0;34m.\u001b[0m\u001b[0mf\u001b[0m\u001b[0;34m,\u001b[0m \u001b[0;34m**\u001b[0m\u001b[0mself\u001b[0m\u001b[0;34m.\u001b[0m\u001b[0moptions\u001b[0m\u001b[0;34m)\u001b[0m  \u001b[0;31m# type: ignore[call-arg]\u001b[0m\u001b[0;34m\u001b[0m\u001b[0;34m\u001b[0m\u001b[0m\n\u001b[0m\u001b[1;32m   1041\u001b[0m \u001b[0;34m\u001b[0m\u001b[0m\n\u001b[1;32m   1042\u001b[0m     \u001b[0;32mdef\u001b[0m \u001b[0m_failover_to_python\u001b[0m\u001b[0;34m(\u001b[0m\u001b[0mself\u001b[0m\u001b[0;34m)\u001b[0m\u001b[0;34m:\u001b[0m\u001b[0;34m\u001b[0m\u001b[0;34m\u001b[0m\u001b[0m\n",
      "\u001b[0;32m~/opt/anaconda3/lib/python3.9/site-packages/pandas/io/parsers/c_parser_wrapper.py\u001b[0m in \u001b[0;36m__init__\u001b[0;34m(self, src, **kwds)\u001b[0m\n\u001b[1;32m     49\u001b[0m \u001b[0;34m\u001b[0m\u001b[0m\n\u001b[1;32m     50\u001b[0m         \u001b[0;31m# open handles\u001b[0m\u001b[0;34m\u001b[0m\u001b[0;34m\u001b[0m\u001b[0m\n\u001b[0;32m---> 51\u001b[0;31m         \u001b[0mself\u001b[0m\u001b[0;34m.\u001b[0m\u001b[0m_open_handles\u001b[0m\u001b[0;34m(\u001b[0m\u001b[0msrc\u001b[0m\u001b[0;34m,\u001b[0m \u001b[0mkwds\u001b[0m\u001b[0;34m)\u001b[0m\u001b[0;34m\u001b[0m\u001b[0;34m\u001b[0m\u001b[0m\n\u001b[0m\u001b[1;32m     52\u001b[0m         \u001b[0;32massert\u001b[0m \u001b[0mself\u001b[0m\u001b[0;34m.\u001b[0m\u001b[0mhandles\u001b[0m \u001b[0;32mis\u001b[0m \u001b[0;32mnot\u001b[0m \u001b[0;32mNone\u001b[0m\u001b[0;34m\u001b[0m\u001b[0;34m\u001b[0m\u001b[0m\n\u001b[1;32m     53\u001b[0m \u001b[0;34m\u001b[0m\u001b[0m\n",
      "\u001b[0;32m~/opt/anaconda3/lib/python3.9/site-packages/pandas/io/parsers/base_parser.py\u001b[0m in \u001b[0;36m_open_handles\u001b[0;34m(self, src, kwds)\u001b[0m\n\u001b[1;32m    220\u001b[0m         \u001b[0mLet\u001b[0m \u001b[0mthe\u001b[0m \u001b[0mreaders\u001b[0m \u001b[0mopen\u001b[0m \u001b[0mIOHandles\u001b[0m \u001b[0mafter\u001b[0m \u001b[0mthey\u001b[0m \u001b[0mare\u001b[0m \u001b[0mdone\u001b[0m \u001b[0;32mwith\u001b[0m \u001b[0mtheir\u001b[0m \u001b[0mpotential\u001b[0m \u001b[0mraises\u001b[0m\u001b[0;34m.\u001b[0m\u001b[0;34m\u001b[0m\u001b[0;34m\u001b[0m\u001b[0m\n\u001b[1;32m    221\u001b[0m         \"\"\"\n\u001b[0;32m--> 222\u001b[0;31m         self.handles = get_handle(\n\u001b[0m\u001b[1;32m    223\u001b[0m             \u001b[0msrc\u001b[0m\u001b[0;34m,\u001b[0m\u001b[0;34m\u001b[0m\u001b[0;34m\u001b[0m\u001b[0m\n\u001b[1;32m    224\u001b[0m             \u001b[0;34m\"r\"\u001b[0m\u001b[0;34m,\u001b[0m\u001b[0;34m\u001b[0m\u001b[0;34m\u001b[0m\u001b[0m\n",
      "\u001b[0;32m~/opt/anaconda3/lib/python3.9/site-packages/pandas/io/common.py\u001b[0m in \u001b[0;36mget_handle\u001b[0;34m(path_or_buf, mode, encoding, compression, memory_map, is_text, errors, storage_options)\u001b[0m\n\u001b[1;32m    700\u001b[0m         \u001b[0;32mif\u001b[0m \u001b[0mioargs\u001b[0m\u001b[0;34m.\u001b[0m\u001b[0mencoding\u001b[0m \u001b[0;32mand\u001b[0m \u001b[0;34m\"b\"\u001b[0m \u001b[0;32mnot\u001b[0m \u001b[0;32min\u001b[0m \u001b[0mioargs\u001b[0m\u001b[0;34m.\u001b[0m\u001b[0mmode\u001b[0m\u001b[0;34m:\u001b[0m\u001b[0;34m\u001b[0m\u001b[0;34m\u001b[0m\u001b[0m\n\u001b[1;32m    701\u001b[0m             \u001b[0;31m# Encoding\u001b[0m\u001b[0;34m\u001b[0m\u001b[0;34m\u001b[0m\u001b[0m\n\u001b[0;32m--> 702\u001b[0;31m             handle = open(\n\u001b[0m\u001b[1;32m    703\u001b[0m                 \u001b[0mhandle\u001b[0m\u001b[0;34m,\u001b[0m\u001b[0;34m\u001b[0m\u001b[0;34m\u001b[0m\u001b[0m\n\u001b[1;32m    704\u001b[0m                 \u001b[0mioargs\u001b[0m\u001b[0;34m.\u001b[0m\u001b[0mmode\u001b[0m\u001b[0;34m,\u001b[0m\u001b[0;34m\u001b[0m\u001b[0;34m\u001b[0m\u001b[0m\n",
      "\u001b[0;31mFileNotFoundError\u001b[0m: [Errno 2] No such file or directory: 'Resources/Treatment_practice.csv'"
     ]
    }
   ],
   "source": [
    "# Read the  Data and store into a Pandas DataFrame\n",
    "treatment = pd.read_csv(treatment)\n",
    "control = pd.read_csv(control)"
   ]
  },
  {
   "cell_type": "code",
   "execution_count": null,
   "id": "96041152",
   "metadata": {},
   "outputs": [],
   "source": [
    "# Creating a DataFrame for treatment group\n",
    "treatment_df = pd.DataFrame(treatment)\n",
    "treatment_df"
   ]
  },
  {
   "cell_type": "code",
   "execution_count": null,
   "id": "9352139a",
   "metadata": {},
   "outputs": [],
   "source": [
    "# Drop \"NaN\" values\n",
    "treatment_df = treatment.dropna()\n",
    "treatment_df.head()"
   ]
  },
  {
   "cell_type": "code",
   "execution_count": null,
   "id": "d18e2920",
   "metadata": {},
   "outputs": [],
   "source": [
    "# Rename columns into snake case\n",
    "treatment_df.columns = ['subject_no', 'tooth_ID', 'day', 'rostral', 'buccal', 'distal', \n",
    "                              'palatal', 'gingivial_recession', 'bleeding_assessment']\n",
    "treatment_df.tail()"
   ]
  },
  {
   "cell_type": "code",
   "execution_count": null,
   "id": "d138c317",
   "metadata": {
    "scrolled": true
   },
   "outputs": [],
   "source": [
    "treatment_df.dtypes"
   ]
  },
  {
   "cell_type": "code",
   "execution_count": null,
   "id": "cc0ceb3d",
   "metadata": {},
   "outputs": [],
   "source": [
    "# Change data types from float to int64\n",
    "treatment_df = treatment_df.astype({\"tooth_ID\":'int64', \"day\":'int64',\"rostral\":'int64', \"buccal\":'int64', \"distal\":'int64',\n",
    "                                               \"palatal\":'int64', \"gingivial_recession\":'int64',\n",
    "                                               \"bleeding_assessment\":'int64'})\n"
   ]
  },
  {
   "cell_type": "code",
   "execution_count": null,
   "id": "5e98e63c",
   "metadata": {},
   "outputs": [],
   "source": [
    "treatment_df.dtypes"
   ]
  },
  {
   "cell_type": "code",
   "execution_count": null,
   "id": "98de16c1",
   "metadata": {},
   "outputs": [],
   "source": [
    "# Convert NAN to 0\n",
    "treatment_df.fillna(0)\n",
    "treatment_df.head()"
   ]
  },
  {
   "cell_type": "code",
   "execution_count": null,
   "id": "2778d0c2",
   "metadata": {},
   "outputs": [],
   "source": [
    "# Rename columns into snake case\n",
    "treatment.columns = ['subject_no', 'tooth_ID', 'day', 'rostral', 'buccal', 'distal', \n",
    "                              'palatal', 'gingivial_recession', 'bleeding_assessment']\n",
    "treatment.tail()"
   ]
  },
  {
   "cell_type": "code",
   "execution_count": null,
   "id": "88e8388f",
   "metadata": {},
   "outputs": [],
   "source": [
    "# File to Load \n",
    "treat_modified = \"Resources/treat_modified.csv\""
   ]
  },
  {
   "cell_type": "code",
   "execution_count": null,
   "id": "fa5e8a6d",
   "metadata": {},
   "outputs": [],
   "source": [
    "# Read the  Data and store into a Pandas DataFrame\n",
    "treat_modified = pd.read_csv(treat_modified)"
   ]
  },
  {
   "cell_type": "code",
   "execution_count": null,
   "id": "5285d788",
   "metadata": {},
   "outputs": [],
   "source": [
    "treat_modified_df = pd.DataFrame(treat_modified)\n",
    "treat_modified_df"
   ]
  },
  {
   "cell_type": "code",
   "execution_count": null,
   "id": "8054b3de",
   "metadata": {},
   "outputs": [],
   "source": [
    "# Rename columns into snake case\n",
    "treat_modified.columns = ['name', 'tooth_ID', 'day_0','day_30','day_60','rostral_day0','buccal_day0','distal_day0','palatal_day0','gingival_recession_day0','bledding_assesment_day0','aver_day0','rostral_day30','buccal_day30','distal_day30','palatal_day30','gingival_recession_day30','bleeding_assesment_day30','aver_day30','rostral_day60','buccal_day60','distal_day60','palatal_day60','gingival_recession_day60','bledding_assesment_day60','aver_day60' ]\n",
    "treat_modified.head()"
   ]
  },
  {
   "cell_type": "code",
   "execution_count": null,
   "id": "c392d1cc",
   "metadata": {},
   "outputs": [],
   "source": [
    "# Drop \"NaN\" values\n",
    "treat_modified_df = treat_modified.dropna()\n",
    "treat_modified_df.head()"
   ]
  },
  {
   "cell_type": "code",
   "execution_count": null,
   "id": "f347786f",
   "metadata": {},
   "outputs": [],
   "source": [
    "treat_modified_df.dtypes"
   ]
  },
  {
   "cell_type": "code",
   "execution_count": null,
   "id": "bc352565",
   "metadata": {},
   "outputs": [],
   "source": [
    "# Change data types from float to int64\n",
    "treat_modified_df = treat_modified_df.astype({'rostral_day0':'int64',\n",
    "'buccal_day0':'int64',\n",
    "'distal_day0':'int64',\n",
    "'palatal_day0':'int64',\n",
    "'gingival_recession_day0':'int64',\n",
    "'bledding_assesment_day0':'int64',\n",
    "'aver_day0':'int64',\n",
    "'rostral_day30':'int64',\n",
    "'buccal_day30':'int64',\n",
    "'distal_day30':'int64',\n",
    "'palatal_day30':'int64',\n",
    "'gingival_recession_day30':'int64',\n",
    "'bleeding_assesment_day30':'int64',\n",
    "'aver_day30':'int64',\n",
    "'rostral_day60':'int64',\n",
    "'buccal_day60':'int64',\n",
    "'distal_day60':'int64',\n",
    "'palatal_day60':'int64',\n",
    "'gingival_recession_day60':'int64',\n",
    "'bledding_assesment_day60':'int64',\n",
    "'aver_day60':'int64'})\n"
   ]
  },
  {
   "cell_type": "code",
   "execution_count": null,
   "id": "cfd64cac",
   "metadata": {},
   "outputs": [],
   "source": [
    "treat_modified_df"
   ]
  },
  {
   "cell_type": "markdown",
   "id": "5a94a436",
   "metadata": {},
   "source": [
    "### Create Plots for visualizations"
   ]
  },
  {
   "cell_type": "code",
   "execution_count": null,
   "id": "5eae2f12",
   "metadata": {},
   "outputs": [],
   "source": [
    "#check plot \n",
    "fig = px.scatter_3d(treat_modified_df, \n",
    "                    x=\"buccal_day0\", \n",
    "                    y=\"buccal_day30\", \n",
    "                    z=\"buccal_day60\", \n",
    "                    hover_name =\"name\", \n",
    "                    color = treat_modified_df.tooth_ID,\n",
    "                    color_continuous_scale=px.colors.sequential.ice,\n",
    "                    title = \"Treatment: Measurements of Buccal Position by Tooth_ID\",\n",
    "                    width=950)\n",
    "fig.update_layout(legend=dict(x=0,y=1), title_x=0.5)\n",
    "fig.show() "
   ]
  },
  {
   "cell_type": "code",
   "execution_count": null,
   "id": "886e0dd8",
   "metadata": {},
   "outputs": [],
   "source": [
    "fig = px.scatter_3d(treat_modified_df, \n",
    "                    x=\"rostral_day0\", \n",
    "                    y=\"rostral_day30\", \n",
    "                    z=\"rostral_day60\", \n",
    "                    hover_name =\"name\", \n",
    "                    color = treat_modified_df.tooth_ID, \n",
    "                    color_continuous_scale=px.colors.sequential.ice,\n",
    "                    title = \"Treatment: Measurements of Rostral Position by Tooth_ID\",\n",
    "                    width=950)\n",
    "fig.update_layout(legend=dict(x=0,y=1), title_x=0.5)\n",
    "fig.show() "
   ]
  },
  {
   "cell_type": "code",
   "execution_count": null,
   "id": "a9731a1b",
   "metadata": {},
   "outputs": [],
   "source": [
    "fig = px.scatter_3d(treat_modified_df, \n",
    "                    x=\"distal_day0\", \n",
    "                    y=\"distal_day30\", \n",
    "                    z=\"distal_day60\", \n",
    "                    hover_name =\"name\", \n",
    "                    color = treat_modified_df.tooth_ID, \n",
    "                    color_continuous_scale=px.colors.sequential.ice,\n",
    "                    title = \"Treatment: Measurements of Distal Position by Tooth_ID\",\n",
    "                    width=950)\n",
    "fig.update_layout(legend=dict(x=0,y=1), title_x=0.5)\n",
    "fig.show() "
   ]
  },
  {
   "cell_type": "code",
   "execution_count": null,
   "id": "e72b5edb",
   "metadata": {},
   "outputs": [],
   "source": [
    "fig = px.scatter_3d(treat_modified_df, \n",
    "                    x=\"palatal_day0\", \n",
    "                    y=\"palatal_day30\", \n",
    "                    z=\"palatal_day60\", \n",
    "                    hover_name =\"name\", \n",
    "                    color = treat_modified_df.tooth_ID, \n",
    "                    color_continuous_scale=px.colors.sequential.ice,\n",
    "                    title = \"Treatment: Measurement of Palatal Position by Tooth_ID\",\n",
    "                    width=950)\n",
    "fig.update_layout(legend=dict(x=0,y=1), title_x=0.5)\n",
    "fig.show() "
   ]
  },
  {
   "cell_type": "markdown",
   "id": "3ca57da7",
   "metadata": {},
   "source": [
    "### Exporting treat_modified_df to csv for Tableau Use"
   ]
  },
  {
   "cell_type": "code",
   "execution_count": null,
   "id": "249b3488",
   "metadata": {},
   "outputs": [],
   "source": [
    "treat_modified_df.to_csv(\"tableau_data.csv\")"
   ]
  },
  {
   "cell_type": "markdown",
   "id": "272ebe7f",
   "metadata": {},
   "source": [
    "## ETL Control Group"
   ]
  },
  {
   "cell_type": "code",
   "execution_count": null,
   "id": "96db9c0b",
   "metadata": {},
   "outputs": [],
   "source": [
    "# File to Load \n",
    "control_modified = \"Resources/ControlModified.csv\""
   ]
  },
  {
   "cell_type": "code",
   "execution_count": null,
   "id": "367423aa",
   "metadata": {},
   "outputs": [],
   "source": [
    "# Read the  Data and store into a Pandas DataFrame\n",
    "control_modified = pd.read_csv(control_modified)"
   ]
  },
  {
   "cell_type": "code",
   "execution_count": null,
   "id": "4b81f3bd",
   "metadata": {},
   "outputs": [],
   "source": [
    "control_modified_df = pd.DataFrame(control_modified)\n",
    "control_modified_df"
   ]
  },
  {
   "cell_type": "code",
   "execution_count": null,
   "id": "26d50205",
   "metadata": {},
   "outputs": [],
   "source": [
    "# Rename columns into snake case\n",
    "control_modified.columns = ['name', 'tooth_ID', 'day_0','day_30','day_60','rostral_day0','buccal_day0','distal_day0','palatal_day0','gingival_recession_day0','bledding_assesment_day0','aver_day0','rostral_day30','buccal_day30','distal_day30','palatal_day30','gingival_recession_day30','bleeding_assesment_day30','aver_day30','rostral_day60','buccal_day60','distal_day60','palatal_day60','gingival_recession_day60','bledding_assesment_day60','aver_day60' ]\n",
    "control_modified.head()"
   ]
  },
  {
   "cell_type": "code",
   "execution_count": null,
   "id": "4d07bf04",
   "metadata": {},
   "outputs": [],
   "source": [
    "# Drop \"NaN\" values\n",
    "control_modified_df = control_modified.dropna()\n",
    "control_modified_df.head()"
   ]
  },
  {
   "cell_type": "code",
   "execution_count": null,
   "id": "84be14d4",
   "metadata": {},
   "outputs": [],
   "source": [
    "control_modified_df.dtypes"
   ]
  },
  {
   "cell_type": "code",
   "execution_count": null,
   "id": "abe3a33b",
   "metadata": {},
   "outputs": [],
   "source": [
    "# Change data types from float to int64\n",
    "treat_modified_df = treat_modified_df.astype({'rostral_day0':'int64',\n",
    "'buccal_day0':'int64',\n",
    "'distal_day0':'int64',\n",
    "'palatal_day0':'int64',\n",
    "'gingival_recession_day0':'int64',\n",
    "'bledding_assesment_day0':'int64',\n",
    "'aver_day0':'int64',\n",
    "'rostral_day30':'int64',\n",
    "'buccal_day30':'int64',\n",
    "'distal_day30':'int64',\n",
    "'palatal_day30':'int64',\n",
    "'gingival_recession_day30':'int64',\n",
    "'bleeding_assesment_day30':'int64',\n",
    "'aver_day30':'int64',\n",
    "'rostral_day60':'int64',\n",
    "'buccal_day60':'int64',\n",
    "'distal_day60':'int64',\n",
    "'palatal_day60':'int64',\n",
    "'gingival_recession_day60':'int64',\n",
    "'bledding_assesment_day60':'int64',\n",
    "'aver_day60':'int64'})\n"
   ]
  },
  {
   "cell_type": "code",
   "execution_count": null,
   "id": "c3461510",
   "metadata": {},
   "outputs": [],
   "source": [
    "treat_modified_df"
   ]
  },
  {
   "cell_type": "code",
   "execution_count": null,
   "id": "cb8962f1",
   "metadata": {},
   "outputs": [],
   "source": [
    "#check plot \n",
    "fig = px.scatter_3d(control_modified_df, \n",
    "                    x=\"buccal_day0\", \n",
    "                    y=\"buccal_day30\", \n",
    "                    z=\"buccal_day60\", \n",
    "                    hover_name =\"name\", \n",
    "                    color = control_modified_df.tooth_ID,\n",
    "                    color_continuous_scale=px.colors.sequential.ice,\n",
    "                    title = \"Control Group Measurement of Buccal Position by Tooth_ID\",\n",
    "                    width=950)\n",
    "fig.update_layout(legend=dict(x=0,y=1), title_x=0.5)\n",
    "fig.show() "
   ]
  },
  {
   "cell_type": "markdown",
   "id": "f841d671",
   "metadata": {},
   "source": [
    "### Exporting control_modified_df to csv for Tableau Use"
   ]
  },
  {
   "cell_type": "code",
   "execution_count": null,
   "id": "6e40632f",
   "metadata": {},
   "outputs": [],
   "source": [
    "control_modified_df.to_csv(\"control_tableau_data.csv\")"
   ]
  },
  {
   "cell_type": "code",
   "execution_count": null,
   "id": "b72dd7e1",
   "metadata": {},
   "outputs": [],
   "source": []
  }
 ],
 "metadata": {
  "kernelspec": {
   "display_name": "Python 3 (ipykernel)",
   "language": "python",
   "name": "python3"
  },
  "language_info": {
   "codemirror_mode": {
    "name": "ipython",
    "version": 3
   },
   "file_extension": ".py",
   "mimetype": "text/x-python",
   "name": "python",
   "nbconvert_exporter": "python",
   "pygments_lexer": "ipython3",
   "version": "3.9.7"
  }
 },
 "nbformat": 4,
 "nbformat_minor": 5
}
